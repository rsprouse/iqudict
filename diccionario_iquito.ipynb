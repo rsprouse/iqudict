{
 "cells": [
  {
   "cell_type": "code",
   "execution_count": 1,
   "metadata": {},
   "outputs": [],
   "source": [
    "import xml.etree.ElementTree as ET\n",
    "import json\n",
    "import iquito_dict as iqdict"
   ]
  },
  {
   "cell_type": "code",
   "execution_count": 2,
   "metadata": {},
   "outputs": [],
   "source": [
    "infile = '../iqu_flex_export/iqu_academic_dictionary_4dec2019.lift'\n",
    "outfile_de = '../diccionario_escolar_iquito.tex'\n",
    "outfile_acad = '../dictionary_academic_iquito.tex'\n",
    "jsonout = '/Users/ronald/.lex_es/json/lex_iquito_1-lex-bulkdata.json'"
   ]
  },
  {
   "cell_type": "markdown",
   "metadata": {},
   "source": [
    "Entries to show:\n",
    "\n",
    "* 'ajapakɨ́ɨya' (p. 28) is irreg pl of 'ajapakɨ́ɨni' and 'ajapaka'\n",
    "    * LIFT: This means 'ajapakɨ́ɨya' has its own <entry> with two <relation type=\"_component-lexeme\"> nodes\n",
    "    * tex: 'ajapakɨ́ɨya' is a minimal entry pointing to refs (no senses are present). NOTE: error in Iquito dictionary--only points to one of the two refs"
   ]
  },
  {
   "cell_type": "code",
   "execution_count": 3,
   "metadata": {},
   "outputs": [],
   "source": [
    "tree = ET.parse(infile)\n",
    "root = tree.getroot()\n",
    "\n",
    "entries = root.findall('entry')\n",
    "reversalentries_es = [\n",
    "    e for e in\n",
    "    root.findall('entry/sense/reversal[@type=\"es\"]/../..')\n",
    "    if 'sci' not in iqdict.get_headword(e)\n",
    "]\n",
    "#reventries_en = [\n",
    "#    e for e in\n",
    "#    root.findall('entry/sense/reversal[@type=\"en\"]/../..')\n",
    "#]\n",
    "reversalentries_en = {}\n",
    "#for e in root.findall('entry/sense/reversal[@type=\"en\"]/../..'):\n",
    "for e in root.findall('entry'):\n",
    "    if iqdict.is_excluded(e) or iqdict.is_suffix(e):\n",
    "        continue\n",
    "    iqword = iqdict.get_headword(e)\n",
    "#    pos = e.find('sense/grammatical-info').attrib['value'].strip()\n",
    "#    is_verb = pos in iqdict.verb_pos\n",
    "#    for revsns in e.findall('sense/reversal[@type=\"en\"]/..'):\n",
    "    for sns in e.findall('sense'):\n",
    "        pos = sns.find('grammatical-info').attrib['value'].strip()\n",
    "#        if is_verb is True:\n",
    "#            pos = revsns.find('grammatical-info').attrib['value'].strip()\n",
    "        for revnode in sns.findall('reversal[@type=\"en\"]'):\n",
    "            try:\n",
    "                rev = iqdict.nodetext(revnode.find('form/text')).strip()\n",
    "            except AttributeError:\n",
    "                print(f'WARNING: empty reversal for entry {iqword}: {e.attrib[\"guid\"]}')\n",
    "                continue\n",
    "            try:\n",
    "                reversalentries_en[rev]\n",
    "            except KeyError:\n",
    "                reversalentries_en[rev] = {}\n",
    "            try:\n",
    "                reversalentries_en[rev][pos].append(iqword)\n",
    "            except KeyError:\n",
    "                reversalentries_en[rev][pos] = [iqword]\n",
    "for rev in reversalentries_en.keys():\n",
    "    for pos in reversalentries_en[rev]:\n",
    "        reversalentries_en[rev][pos].sort(key=lambda s: iqdict.str2sort(s))\n",
    "pos = {}\n",
    "\n",
    "# Spanish reversals are for diccionario escolar.\n",
    "reversalentries_es = {}\n",
    "for e in root.findall('entry/sense/reversal[@type=\"es\"]/../..'):\n",
    "    if iqdict.is_excluded(e) or iqdict.is_suffix(e):\n",
    "        continue\n",
    "    # NOTE: This assumes all reversals of current e entry are same\n",
    "    # part of speech.\n",
    "    iqword = iqdict.get_headword(e)\n",
    "    pos = e.find('sense/grammatical-info').attrib['value'].strip()\n",
    "    for rev in e.findall('sense/reversal[@type=\"es\"]/form/text'):\n",
    "        rev = iqdict.nodetext(rev)\n",
    "        if r'\\sci ' in rev:\n",
    "            continue\n",
    "        try:\n",
    "            reversalentries_es[rev]\n",
    "        except KeyError:\n",
    "            reversalentries_es[rev] = {}\n",
    "        try:\n",
    "            reversalentries_es[rev][pos].append(iqword)\n",
    "        except KeyError:\n",
    "            reversalentries_es[rev][pos] = [iqword]\n",
    "for rev in reversalentries_es.keys():\n",
    "    for pos in reversalentries_es[rev]:\n",
    "        reversalentries_es[rev][pos].sort(key=lambda s: iqdict.str2sort(s))\n",
    "pos = {}"
   ]
  },
  {
   "cell_type": "code",
   "execution_count": 4,
   "metadata": {},
   "outputs": [],
   "source": [
    "varmap = {\n",
    "    'Sociolinguistic variant': 'sociovarlab',\n",
    "    'Free Variant': 'freevarlab',\n",
    "    'Dialectal variant of': 'dialectvarlab',\n",
    "    'Nanay dialect': 'dialectlab{Nanay}',\n",
    "    'Chambira dialect': 'dialectlab{Chambira}',\n",
    "    'Maasikuuri dialect': 'dialectlab{Maasikuuri}',\n",
    "    'Inkawɨɨ́raana dialect': 'dialectlab{Inkawɨɨ́raana}',\n",
    "    'Maájanakáani dialect': 'dialectlab{Maájanakáani}',\n",
    "    'Personal variant (JPI)': 'persvarlab{JPI}',\n",
    "    'Personal variant (ELY)': 'persvarlab{ELY}',\n",
    "    'Personal variant (HDC)': 'persvarlab{HDC}',\n",
    "    'Personal variant': 'persvarlabunk',\n",
    "    'Constructional variant': 'constructvarlab',\n",
    "    'Archaic variant of': 'archvarlab',\n",
    "    'Prepausal form': 'prepausallab',\n",
    "    'Affective variant': 'affectvarlab',\n",
    "    'Euphemistic variant': 'euphvarlab',\n",
    "    'Playful variant': 'playvarlab',\n",
    "    'Irregular 3rd person possessed form': 'irregthirdposs',\n",
    "    'Irregular 1st person possessed form': 'irregfirstposs',\n",
    "    'Nickname': 'nicknamelab',\n",
    "    'Allomorph': 'allomorphlab',\n",
    "    'Irregular plural': 'irregpllab',  # Not converted to latex macro here; handled separately\n",
    "    'Imperfective root': 'impfrtlab',\n",
    "}\n",
    "#    'Free variant(s)': 'freevarlabs',\n",
    "#    'Dialectal variant(s)': 'dialectvarlabs',"
   ]
  },
  {
   "cell_type": "code",
   "execution_count": 5,
   "metadata": {},
   "outputs": [],
   "source": [
    "variantmap = {}\n",
    "mainwdmap_es = {}\n",
    "mainwdmap_en = {}\n",
    "irreg_pl_map = {}\n",
    "impf_rt_map = {}\n",
    "for entry in entries:\n",
    "    relations = entry.findall('relation[@type=\"_component-lexeme\"]')\n",
    "    for rel in relations:\n",
    "        refid = rel.attrib['ref']\n",
    "        if refid == '':\n",
    "            continue\n",
    "        try:\n",
    "            mainwd = iqdict.get_headword(root.find('entry[@id=\"{:}\"]'.format(refid)))\n",
    "        except AttributeError:\n",
    "            print('Could not find entry {:}'.format(refid))\n",
    "            continue\n",
    "        try:\n",
    "            vartype = rel.find('trait[@name=\"variant-type\"]').attrib['value']\n",
    "            parts = vartype.split()\n",
    "            parts[0] = parts[0].capitalize()  # capitalize first word only and leave others as capitalized\n",
    "            vartype = ' '.join(parts)\n",
    "        except:\n",
    "            print('Could not get variant type for entry {:}'.format(refid))\n",
    "            continue\n",
    "        if varmap[vartype] is not None:\n",
    "            vartype = varmap[vartype]\n",
    "#        if vartype == 'Dialectal variant of':\n",
    "#            vartype = 'Dialectal variant'\n",
    "#        if vartype == 'Archaic variant of':\n",
    "#            vartype = 'Archaic variant'\n",
    "#        if vartype.endswith(' dialect'):\n",
    "#            vartype += ' form'\n",
    "        mainwdmap_es[entry.attrib['id']] = '\\n  \\\\variantof{Variante de: \\\\textbf{' + mainwd + '}}'\n",
    "        mainwdmap_en[entry.attrib['id']] = '\\n  \\\\variantof{\\\\' + vartype + ' of \\\\vartext{' + mainwd + '}}'\n",
    "#        if vartype == 'Imperfective root':\n",
    "        if vartype == 'impfrtlab':\n",
    "            impf_rt_map[refid] = iqdict.get_headword(entry)\n",
    "            continue   # Do not include in variantmap\n",
    "        try:  # citation form if it exists, else lexeme form\n",
    "            variant = entry.find('citation/form[@lang=\"iqu\"]/text').text\n",
    "        except:\n",
    "            variant = entry.find('lexical-unit/form[@lang=\"iqu\"]/text').text\n",
    "        try:\n",
    "            variantmap[refid]\n",
    "        except KeyError:\n",
    "            variantmap[refid] = {}\n",
    "        try:\n",
    "            variantmap[refid][vartype].append(variant)\n",
    "        except KeyError:\n",
    "            variantmap[refid][vartype] = [variant]\n",
    "    glosses = entry.findall('sense/gloss[@lang=\"ga\"]/text')\n",
    "    for ipl in iqdict.get_irreg_pl(glosses):\n",
    "        irreg_pl_map[ipl] = iqdict.get_headword(entry)"
   ]
  },
  {
   "cell_type": "markdown",
   "metadata": {},
   "source": [
    "## Diccionario escolar\n",
    "A full entry consists of the following fields in the following order:\n",
    "\n",
    "1. Citation Form\n",
    "2. Gram. info (Abbrev. spn)\n",
    "3. Glosses (Gae)\n",
    "4. Variant Form (Iqu) [if present]\n",
    "\n",
    "A minimal entry is a reduced entry that refers back to full entry, and consists of the following fields in the following order:\n",
    "\n",
    "1. Citation Form\n",
    "2. Variant Type (Reverse name, spn)\n",
    "3. Variant of\n",
    "\n",
    "The entries in the  'Reversals' section is relatively simple, and consists of the following fields:\n",
    "\n",
    "1. Reversal Entries (Spn)\n",
    "2. Gram. info\n",
    "3. Citation Form"
   ]
  },
  {
   "cell_type": "code",
   "execution_count": 8,
   "metadata": {},
   "outputs": [
    {
     "name": "stdout",
     "output_type": "stream",
     "text": [
      "Error in entry.  '.'\n",
      "WARNING: Could not find part-of-speech (sense/grammatical-info) for entry guid 202e08ac-11ee-4e40-a9e1-de6913dde58c\n",
      "Error in entry.  '/'\n",
      "WARNING: Could not find part-of-speech (sense/grammatical-info) for entry guid 2ed78fb0-b584-4728-8a65-82f56d6bb68f\n",
      "Error in entry.  '.'\n",
      "Error in entry.  '.'\n",
      "WARNING: Could not find part-of-speech (sense/grammatical-info) for entry guid 39958213-baf8-4726-85d5-16333a2de21e\n",
      "Error in entry.  '.'\n",
      "WARNING: Could not find part-of-speech (sense/grammatical-info) for entry guid 3d934a10-d1bd-4de7-a630-0fa778be7369\n",
      "WARNING: Could not find part-of-speech (sense/grammatical-info) for entry guid 8f334964-6426-46bb-8e47-07801b90c11d\n",
      "Error in entry.  '.'\n"
     ]
    }
   ],
   "source": [
    "# Regular dictionary\n",
    "texentries = []\n",
    "for e in entries:\n",
    "    d, err = iqdict.entry2dict_de(e, variantmap, mainwdmap_es, irreg_pl_map)\n",
    "    if err is None:\n",
    "        texentries.append(d)\n",
    "    else:\n",
    "        print('Error in entry. ', str(err))\n",
    "texentries.sort(key=lambda entry: entry['sortword'])\n",
    "\n",
    "lastchapter = ''\n",
    "with open(outfile_de, 'w') as out:\n",
    "    for d in texentries:\n",
    "        if d['firstletter'] != lastchapter:\n",
    "            out.write('\\n' + r'\\chapter{' + d['firstletter'] + '}\\n\\n')\n",
    "            lastchapter = d['firstletter']\n",
    "        out.write('\\n\\n' + d['tex'])\n",
    "\n",
    "# Reversal dictionary\n",
    "texentries = []\n",
    "for rev, e in reversalentries_es.items():\n",
    "    d, err = iqdict.reventry2dict_de(rev, e)\n",
    "    if err is None:\n",
    "        texentries.append(d)\n",
    "    elif err == 'SCI':\n",
    "        pass\n",
    "    else:\n",
    "        print('Error in reversal entry. ', str(err))\n",
    "texentries.sort(key=lambda entry: entry['sortword'])\n",
    "\n",
    "lastchapter = ''\n",
    "with open(outfile_de, 'a') as out:\n",
    "    for d in texentries:\n",
    "        if d['firstletter'] != lastchapter:\n",
    "            out.write('\\n' + r'\\chapter{' + d['firstletter'] + '}\\n\\n')\n",
    "            lastchapter = d['firstletter']\n",
    "        out.write('\\n\\n' + d['tex'])"
   ]
  },
  {
   "cell_type": "markdown",
   "metadata": {},
   "source": [
    "## Academic dictionary"
   ]
  },
  {
   "cell_type": "code",
   "execution_count": 6,
   "metadata": {},
   "outputs": [],
   "source": [
    "# Regular dictionary\n",
    "iqdict.reset_wordcounts()  # Reset word counter\n",
    "texentries = []\n",
    "for e in entries:\n",
    "    if iqdict.is_excluded(e) or iqdict.is_suffix(e):\n",
    "        continue\n",
    "    d, err = iqdict.entry2dict_acad(e, variantmap, mainwdmap_en, irreg_pl_map, impf_rt_map)\n",
    "    if err is None:\n",
    "        texentries.append(d)\n",
    "    else:\n",
    "        print('Error in entry. ', str(err))\n",
    "texentries.sort(key=lambda entry: entry['sortword'])\n",
    "\n",
    "lastchapter = ''\n",
    "with open(outfile_acad, 'w') as out:\n",
    "    for d in texentries:\n",
    "        if d['firstletter'] != lastchapter:\n",
    "            out.write('\\n' + r'\\chapter{' + d['firstletter'] + '}\\n\\n')\n",
    "            lastchapter = d['firstletter']\n",
    "        out.write(d['tex'] + '\\n')"
   ]
  },
  {
   "cell_type": "code",
   "execution_count": 7,
   "metadata": {},
   "outputs": [],
   "source": [
    "# Reversal dictionary\n",
    "iqdict.reset_revwordcounts()  # Reset word counter\n",
    "texentries = []\n",
    "for rev, e in reversalentries_en.items():\n",
    "    d, err = iqdict.reventry2dict_acad(rev, e)\n",
    "    if err is None:\n",
    "        texentries.append(d)\n",
    "    elif err == 'SCI':\n",
    "        pass\n",
    "    else:\n",
    "        print('Error in reversal entry. ', str(err))\n",
    "texentries.sort(key=lambda entry: entry['sortword'])\n",
    "\n",
    "lastchapter = ''\n",
    "with open(outfile_acad, 'a') as out:\n",
    "    for d in texentries:\n",
    "        if d['firstletter'] != lastchapter:\n",
    "            out.write('\\n' + r'\\chapter{' + d['firstletter'] + '}\\n\\n')\n",
    "            lastchapter = d['firstletter']\n",
    "        out.write(d['tex'] + '\\n')"
   ]
  },
  {
   "cell_type": "code",
   "execution_count": 8,
   "metadata": {},
   "outputs": [
    {
     "data": {
      "text/plain": [
       "{'A': 16322,\n",
       " 'AA': 5996,\n",
       " 'I': 14462,\n",
       " 'II': 6328,\n",
       " 'J': 6670,\n",
       " 'K': 18847,\n",
       " 'M': 14004,\n",
       " 'N': 10747,\n",
       " 'P': 8968,\n",
       " 'R': 4378,\n",
       " 'S': 19419,\n",
       " 'T': 11108,\n",
       " 'U': 79,\n",
       " 'UU': 93,\n",
       " 'W': 1637,\n",
       " 'Y': 374,\n",
       " 'ƗƗ': 837}"
      ]
     },
     "execution_count": 8,
     "metadata": {},
     "output_type": "execute_result"
    }
   ],
   "source": [
    "{k: iqdict.wordcounts[k] for k in sorted(iqdict.wordcounts)}"
   ]
  },
  {
   "cell_type": "code",
   "execution_count": 9,
   "metadata": {},
   "outputs": [
    {
     "data": {
      "text/plain": [
       "{'A': 1106,\n",
       " 'B': 1581,\n",
       " 'C': 2151,\n",
       " 'D': 790,\n",
       " 'E': 421,\n",
       " 'F': 1099,\n",
       " 'G': 678,\n",
       " 'H': 959,\n",
       " 'I': 477,\n",
       " 'J': 123,\n",
       " 'K': 102,\n",
       " 'L': 865,\n",
       " 'M': 1555,\n",
       " 'N': 360,\n",
       " 'O': 402,\n",
       " 'P': 1899,\n",
       " 'Q': 42,\n",
       " 'R': 813,\n",
       " 'S': 2200,\n",
       " 'T': 1557,\n",
       " 'U': 289,\n",
       " 'V': 176,\n",
       " 'W': 716,\n",
       " 'X': 16,\n",
       " 'Y': 150,\n",
       " 'Z': 33}"
      ]
     },
     "execution_count": 9,
     "metadata": {},
     "output_type": "execute_result"
    }
   ],
   "source": [
    "{k: iqdict.revwordcounts[k] for k in sorted(iqdict.revwordcounts)}"
   ]
  },
  {
   "cell_type": "markdown",
   "metadata": {},
   "source": [
    "## pglex"
   ]
  },
  {
   "cell_type": "code",
   "execution_count": 173,
   "metadata": {},
   "outputs": [],
   "source": [
    "with open(jsonout, 'w') as out:\n",
    "    for e in entries:\n",
    "        out.write(entry2pglex(e) + '\\n')"
   ]
  },
  {
   "cell_type": "code",
   "execution_count": 154,
   "metadata": {},
   "outputs": [
    {
     "data": {
      "text/plain": [
       "'ánaaja'"
      ]
     },
     "execution_count": 154,
     "metadata": {},
     "output_type": "execute_result"
    }
   ],
   "source": [
    "irreg_pl_map['ánaaka']"
   ]
  },
  {
   "cell_type": "code",
   "execution_count": null,
   "metadata": {},
   "outputs": [],
   "source": [
    "for k, v in irreg_pl_map.items():\n",
    "    print(k, v)"
   ]
  },
  {
   "cell_type": "code",
   "execution_count": null,
   "metadata": {},
   "outputs": [],
   "source": []
  }
 ],
 "metadata": {
  "kernelspec": {
   "display_name": "Python 3 (ipykernel)",
   "language": "python",
   "name": "python3"
  },
  "language_info": {
   "codemirror_mode": {
    "name": "ipython",
    "version": 3
   },
   "file_extension": ".py",
   "mimetype": "text/x-python",
   "name": "python",
   "nbconvert_exporter": "python",
   "pygments_lexer": "ipython3",
   "version": "3.9.7"
  }
 },
 "nbformat": 4,
 "nbformat_minor": 2
}
